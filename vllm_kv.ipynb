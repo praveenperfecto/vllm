{
 "cells": [
  {
   "cell_type": "code",
   "execution_count": null,
   "id": "85c66c6b-e39d-4708-8189-90bcb93921f0",
   "metadata": {},
   "outputs": [],
   "source": []
  },
  {
   "cell_type": "code",
   "execution_count": null,
   "id": "b90a45f5-9366-4006-8f5c-5262bfb9f99e",
   "metadata": {},
   "outputs": [],
   "source": []
  },
  {
   "cell_type": "code",
   "execution_count": null,
   "id": "1856379b-ee08-423c-8a1c-868115b61324",
   "metadata": {},
   "outputs": [],
   "source": []
  },
  {
   "cell_type": "code",
   "execution_count": 1,
   "id": "eb48684f-82a7-48ae-8192-6d405047ca60",
   "metadata": {},
   "outputs": [
    {
     "name": "stderr",
     "output_type": "stream",
     "text": [
      "/usr/local/lib/python3.10/dist-packages/tqdm/auto.py:21: TqdmWarning: IProgress not found. Please update jupyter and ipywidgets. See https://ipywidgets.readthedocs.io/en/stable/user_install.html\n",
      "  from .autonotebook import tqdm as notebook_tqdm\n"
     ]
    },
    {
     "name": "stdout",
     "output_type": "stream",
     "text": [
      "INFO 04-30 02:21:00 pynccl.py:58] Loading nccl from library /root/.config/vllm/nccl/cu12/libnccl.so.2.18.1\n"
     ]
    },
    {
     "name": "stderr",
     "output_type": "stream",
     "text": [
      "2024-04-30 02:21:01,194\tINFO util.py:154 -- Missing packages: ['ipywidgets']. Run `pip install -U ipywidgets`, then restart the notebook server for rich notebook output.\n",
      "Special tokens have been added in the vocabulary, make sure the associated word embeddings are fine-tuned or trained.\n"
     ]
    },
    {
     "name": "stdout",
     "output_type": "stream",
     "text": [
      "Output Text: ['fromage']\n"
     ]
    }
   ],
   "source": [
    "from vllm.model_executor.models import T5ForVLLMWithCache\n",
    "\n",
    "model_path = 'vllm/model_executor/models/t5-small-model'\n",
    "\n",
    "tokenizer_path = 'vllm/model_executor/models/t5-small-tokenizer'\n",
    "\n",
    "# Instantiate the model with KV Cache\n",
    "model = T5ForVLLMWithCache(model_dir=model_path, tokenizer_dir=tokenizer_path)\n",
    "\n",
    "# Test generating text\n",
    "input_text = \"Translate English to French: cheese\"\n",
    "output_text = model.generate(input_text)\n",
    "print(\"Output Text:\", output_text)\n",
    "\n"
   ]
  },
  {
   "cell_type": "code",
   "execution_count": null,
   "id": "858e720d-9c3e-41b2-aefa-c633a6c5b966",
   "metadata": {},
   "outputs": [],
   "source": []
  },
  {
   "cell_type": "code",
   "execution_count": null,
   "id": "96b8864d-a5db-482d-b88c-ec15b5b057d8",
   "metadata": {},
   "outputs": [],
   "source": []
  },
  {
   "cell_type": "code",
   "execution_count": 3,
   "id": "ec00ad7a-20de-405c-af01-e4b33bbeb842",
   "metadata": {},
   "outputs": [
    {
     "name": "stderr",
     "output_type": "stream",
     "text": [
      "Special tokens have been added in the vocabulary, make sure the associated word embeddings are fine-tuned or trained.\n"
     ]
    },
    {
     "name": "stdout",
     "output_type": "stream",
     "text": [
      "Translation: ['Comment êtes-vous, ce qui se passe, dites-moi tellement de nouveauté?']\n"
     ]
    }
   ],
   "source": [
    "from vllm.model_executor.models.t5 import T5ForVLLM\n",
    "\n",
    "# Using absolute paths for clarity\n",
    "model_dir = '/data/data/vllm/vllm/model_executor/models/t5-small-model/'\n",
    "tokenizer_dir = '/data/data/vllm/vllm/model_executor/models/t5-small-tokenizer/'\n",
    "\n",
    "# Initialize the model\n",
    "model = T5ForVLLM(model_dir, tokenizer_dir)\n",
    "\n",
    "# Test input\n",
    "# test_input = \"Translate English to French: How are you?\"\n",
    "\n",
    "test_input = \"Translate English to French: Hi How are you, whats happening, tell me somthing new?\"\n",
    "output = model.generate(test_input)\n",
    "print(\"Translation:\", output)\n"
   ]
  },
  {
   "cell_type": "code",
   "execution_count": null,
   "id": "b60fd55d-a8f9-4bed-91c6-dbb5ac0e0297",
   "metadata": {},
   "outputs": [],
   "source": []
  },
  {
   "cell_type": "code",
   "execution_count": null,
   "id": "f47938f4-4071-4723-96d3-e1a1b4c26403",
   "metadata": {},
   "outputs": [],
   "source": []
  },
  {
   "cell_type": "code",
   "execution_count": 4,
   "id": "355e16a4-d68f-4044-8b71-68795c5da092",
   "metadata": {},
   "outputs": [
    {
     "name": "stderr",
     "output_type": "stream",
     "text": [
      "Special tokens have been added in the vocabulary, make sure the associated word embeddings are fine-tuned or trained.\n"
     ]
    },
    {
     "name": "stdout",
     "output_type": "stream",
     "text": [
      "Average Latency Basic Model: 0.29745 seconds\n"
     ]
    }
   ],
   "source": [
    "import timeit\n",
    "\n",
    "# Setup model paths\n",
    "\n",
    "# Using absolute paths for clarity\n",
    "model_dir = '/data/data/vllm/vllm/model_executor/models/t5-small-model'\n",
    "tokenizer_dir = '/data/data/vllm/vllm/model_executor/models/t5-small-tokenizer'\n",
    "\n",
    "# Import model class\n",
    "from vllm.model_executor.models import T5ForVLLM, T5ForVLLMWithCache, T5ForVLLMWithDistributedCache\n",
    "\n",
    "# Initialize models\n",
    "basic_model = T5ForVLLM(model_dir, tokenizer_dir)\n",
    "\n",
    "# Test input\n",
    "input_text = \"Translate English to French: How are you?\"\n",
    "\n",
    "# Define function to measure latency\n",
    "def test_basic_model():\n",
    "    basic_model.generate(input_text)\n",
    "\n",
    "\n",
    "# Measure latency\n",
    "basic_latency = timeit.timeit(test_basic_model, number=10) / 10\n",
    "\n",
    "print(f\"Average Latency Basic Model: {basic_latency:.5f} seconds\")\n"
   ]
  },
  {
   "cell_type": "code",
   "execution_count": null,
   "id": "7308bc21-62e7-422b-9903-8c0b416eef4b",
   "metadata": {},
   "outputs": [],
   "source": []
  },
  {
   "cell_type": "code",
   "execution_count": 5,
   "id": "743844ad-b78b-4d43-9347-7a42ef5d7c5e",
   "metadata": {},
   "outputs": [
    {
     "name": "stderr",
     "output_type": "stream",
     "text": [
      "Special tokens have been added in the vocabulary, make sure the associated word embeddings are fine-tuned or trained.\n"
     ]
    },
    {
     "name": "stdout",
     "output_type": "stream",
     "text": [
      "Average Latency Cached Model: 0.02662 seconds\n"
     ]
    }
   ],
   "source": [
    "import timeit\n",
    "\n",
    "# Setup model paths\n",
    "\n",
    "# Using absolute paths for clarity\n",
    "model_dir = '/data/data/vllm/vllm/model_executor/models/t5-small-model'\n",
    "tokenizer_dir = '/data/data/vllm/vllm/model_executor/models/t5-small-tokenizer'\n",
    "\n",
    "# Import model class\n",
    "from vllm.model_executor.models import T5ForVLLM, T5ForVLLMWithCache\n",
    "\n",
    "cached_model = T5ForVLLMWithCache(model_dir, tokenizer_dir)\n",
    "\n",
    "\n",
    "def test_cached_model():\n",
    "    cached_model.generate(input_text)\n",
    "# Measure latency\n",
    "\n",
    "cached_latency = timeit.timeit(test_cached_model, number=10) / 10\n",
    "\n",
    "print(f\"Average Latency Cached Model: {cached_latency:.5f} seconds\")\n"
   ]
  },
  {
   "cell_type": "code",
   "execution_count": null,
   "id": "b4276f0a-b432-44c9-9d4f-6b1b872f199d",
   "metadata": {},
   "outputs": [],
   "source": []
  },
  {
   "cell_type": "code",
   "execution_count": 11,
   "id": "78f851d4-25b0-4954-8153-62e8f9ae901f",
   "metadata": {},
   "outputs": [
    {
     "name": "stderr",
     "output_type": "stream",
     "text": [
      "Special tokens have been added in the vocabulary, make sure the associated word embeddings are fine-tuned or trained.\n"
     ]
    }
   ],
   "source": [
    "# Import necessary libraries\n",
    "import time\n",
    "import numpy as np\n",
    "import psutil\n",
    "from transformers import T5Tokenizer, T5ForConditionalGeneration\n",
    "\n",
    "# Define the model paths\n",
    "# Using absolute paths for clarity\n",
    "model_dir = '/data/data/vllm/vllm/model_executor/models/t5-small-model'\n",
    "tokenizer_dir = '/data/data/vllm/vllm/model_executor/models/t5-small-tokenizer'\n",
    "\n",
    "# Initialize the tokenizer\n",
    "tokenizer = T5Tokenizer.from_pretrained(tokenizer_dir)\n",
    "\n",
    "# Load the basic and cached models\n",
    "basic_model = T5ForConditionalGeneration.from_pretrained(model_dir)\n",
    "cached_model = T5ForConditionalGeneration.from_pretrained(model_dir)  # Assuming cache logic is internal\n",
    "\n",
    "# Define test input\n",
    "input_text = \"Translate English to French: How are you?\"\n",
    "encoded_input = tokenizer(input_text, return_tensors=\"pt\")\n"
   ]
  },
  {
   "cell_type": "code",
   "execution_count": 12,
   "id": "605d56fe-d80d-42bb-a56e-13e1cf705c64",
   "metadata": {},
   "outputs": [],
   "source": [
    "def benchmark_model(model, input_ids, attention_mask, iterations=100):\n",
    "    times = []\n",
    "    cpu_usage = []\n",
    "    mem_usage = []\n",
    "\n",
    "    for _ in range(iterations):\n",
    "        start_time = time.time()\n",
    "        # Simulate model call\n",
    "        outputs = model.generate(input_ids=input_ids, attention_mask=attention_mask)\n",
    "        elapsed = time.time() - start_time\n",
    "\n",
    "        # Collect metrics\n",
    "        times.append(elapsed)\n",
    "        cpu_usage.append(psutil.cpu_percent())\n",
    "        mem_usage.append(psutil.virtual_memory().used)\n",
    "\n",
    "    return times, cpu_usage, mem_usage\n"
   ]
  },
  {
   "cell_type": "code",
   "execution_count": 13,
   "id": "d0a3a060-43ac-4625-83a3-87701cde30cf",
   "metadata": {},
   "outputs": [
    {
     "name": "stderr",
     "output_type": "stream",
     "text": [
      "/usr/local/lib/python3.10/dist-packages/transformers/generation/utils.py:1141: UserWarning: Using the model-agnostic default `max_length` (=20) to control the generation length. We recommend setting `max_new_tokens` to control the maximum length of the generation.\n",
      "  warnings.warn(\n"
     ]
    },
    {
     "name": "stdout",
     "output_type": "stream",
     "text": [
      "Basic Model - Avg Time: 0.178 sec, CPU: 44.83%, Mem: 50617.86 MB\n",
      "Cached Model - Avg Time: 0.164 sec, CPU: 45.20%, Mem: 50853.12 MB\n"
     ]
    }
   ],
   "source": [
    "# Run benchmark for basic model\n",
    "basic_times, basic_cpu, basic_mem = benchmark_model(basic_model, **encoded_input)\n",
    "\n",
    "# Run benchmark for cached model\n",
    "cached_times, cached_cpu, cached_mem = benchmark_model(cached_model, **encoded_input)\n",
    "\n",
    "# Calculate and print metrics\n",
    "print(f\"Basic Model - Avg Time: {np.mean(basic_times):.3f} sec, CPU: {np.mean(basic_cpu):.2f}%, Mem: {np.mean(basic_mem)/1e6:.2f} MB\")\n",
    "print(f\"Cached Model - Avg Time: {np.mean(cached_times):.3f} sec, CPU: {np.mean(cached_cpu):.2f}%, Mem: {np.mean(cached_mem)/1e6:.2f} MB\")\n"
   ]
  },
  {
   "cell_type": "code",
   "execution_count": 5,
   "id": "00b04357-9de9-43fc-bcef-f4702d29395e",
   "metadata": {},
   "outputs": [
    {
     "name": "stdout",
     "output_type": "stream",
     "text": [
      "Response Time Percentiles (sec):\n",
      "P50, P90, P99\n",
      "Basic Model - P50: 0.168\n",
      "Cached Model - P50: 0.166\n",
      "Basic Model - P90: 0.275\n",
      "Cached Model - P90: 0.175\n",
      "Basic Model - P99: 0.338\n",
      "Cached Model - P99: 0.202\n"
     ]
    }
   ],
   "source": [
    "# Percentiles for response time\n",
    "percentiles = [50, 90, 99]\n",
    "basic_p = np.percentile(basic_times, percentiles)\n",
    "cached_p = np.percentile(cached_times, percentiles)\n",
    "\n",
    "print(\"Response Time Percentiles (sec):\")\n",
    "print(\"P50, P90, P99\")\n",
    "for i, p in enumerate(percentiles):\n",
    "    print(f\"Basic Model - P{p}: {basic_p[i]:.3f}\")\n",
    "    print(f\"Cached Model - P{p}: {cached_p[i]:.3f}\")\n"
   ]
  },
  {
   "cell_type": "code",
   "execution_count": null,
   "id": "e6aea0fc-08af-419d-95fb-e669570b8bee",
   "metadata": {},
   "outputs": [],
   "source": []
  },
  {
   "cell_type": "code",
   "execution_count": 1,
   "id": "cc47778c-7842-4aed-b590-17adcc15b31e",
   "metadata": {},
   "outputs": [
    {
     "name": "stderr",
     "output_type": "stream",
     "text": [
      "/usr/local/lib/python3.10/dist-packages/tqdm/auto.py:21: TqdmWarning: IProgress not found. Please update jupyter and ipywidgets. See https://ipywidgets.readthedocs.io/en/stable/user_install.html\n",
      "  from .autonotebook import tqdm as notebook_tqdm\n"
     ]
    },
    {
     "name": "stdout",
     "output_type": "stream",
     "text": [
      "INFO 04-30 02:09:51 pynccl.py:58] Loading nccl from library /root/.config/vllm/nccl/cu12/libnccl.so.2.18.1\n"
     ]
    },
    {
     "name": "stderr",
     "output_type": "stream",
     "text": [
      "2024-04-30 02:09:51,503\tINFO util.py:154 -- Missing packages: ['ipywidgets']. Run `pip install -U ipywidgets`, then restart the notebook server for rich notebook output.\n",
      "Special tokens have been added in the vocabulary, make sure the associated word embeddings are fine-tuned or trained.\n"
     ]
    },
    {
     "name": "stdout",
     "output_type": "stream",
     "text": [
      "Translation: ['Comment êtes-vous, ce qui se passe, dites-moi tellement de nouveauté?']\n"
     ]
    }
   ],
   "source": [
    "from vllm.model_executor.models.t5 import T5ForVLLM\n",
    "\n",
    "# Using absolute paths for clarity\n",
    "model_dir = '/data/data/vllm/vllm/model_executor/models/t5-small-model/'\n",
    "tokenizer_dir = '/data/data/vllm/vllm/model_executor/models/t5-small-tokenizer/'\n",
    "\n",
    "# Initialize the model\n",
    "model = T5ForVLLM(model_dir, tokenizer_dir)\n",
    "\n",
    "# Test input\n",
    "# test_input = \"Translate English to French: How are you?\"\n",
    "\n",
    "test_input = \"Translate English to French: Hi How are you, whats happening, tell me somthing new?\"\n",
    "output = model.generate(test_input)\n",
    "print(\"Translation:\", output)\n"
   ]
  },
  {
   "cell_type": "code",
   "execution_count": 1,
   "id": "a70cc0e5-7795-44de-9218-7da755bf5fb8",
   "metadata": {
    "scrolled": true
   },
   "outputs": [
    {
     "name": "stderr",
     "output_type": "stream",
     "text": [
      "/usr/local/lib/python3.10/dist-packages/tqdm/auto.py:21: TqdmWarning: IProgress not found. Please update jupyter and ipywidgets. See https://ipywidgets.readthedocs.io/en/stable/user_install.html\n",
      "  from .autonotebook import tqdm as notebook_tqdm\n"
     ]
    },
    {
     "name": "stdout",
     "output_type": "stream",
     "text": [
      "INFO 04-30 02:18:34 pynccl.py:58] Loading nccl from library /root/.config/vllm/nccl/cu12/libnccl.so.2.18.1\n"
     ]
    },
    {
     "name": "stderr",
     "output_type": "stream",
     "text": [
      "2024-04-30 02:18:34,852\tINFO util.py:154 -- Missing packages: ['ipywidgets']. Run `pip install -U ipywidgets`, then restart the notebook server for rich notebook output.\n",
      "Special tokens have been added in the vocabulary, make sure the associated word embeddings are fine-tuned or trained.\n"
     ]
    },
    {
     "name": "stdout",
     "output_type": "stream",
     "text": [
      "Output Text: ['fromage']\n"
     ]
    }
   ],
   "source": [
    "from vllm.model_executor.models import T5ForVLLMWithDistributedCache\n",
    "import torch\n",
    "# Using absolute paths for clarity\n",
    "model_path = '/data/data/vllm/vllm/model_executor/models/t5-small-model/'\n",
    "tokenizer_path = '/data/data/vllm/vllm/model_executor/models/t5-small-tokenizer/'\n",
    "\n",
    "# Instantiate the model with distributed KV Cache\n",
    "model = T5ForVLLMWithDistributedCache(model_dir=model_path, tokenizer_dir=tokenizer_path)\n",
    "\n",
    "# Test generating text\n",
    "input_text = \"Translate English to French: cheese\"\n",
    "output_text = model.generate(input_text)\n",
    "print(\"Output Text:\", output_text)\n"
   ]
  },
  {
   "cell_type": "code",
   "execution_count": null,
   "id": "617e8023-1f84-4bff-a339-9f58053e0c89",
   "metadata": {},
   "outputs": [],
   "source": []
  },
  {
   "cell_type": "code",
   "execution_count": null,
   "id": "8ff97364-59cd-472e-8e3c-3978e2ac0c1c",
   "metadata": {},
   "outputs": [],
   "source": []
  }
 ],
 "metadata": {
  "kernelspec": {
   "display_name": "Python 3 (ipykernel)",
   "language": "python",
   "name": "python3"
  },
  "language_info": {
   "codemirror_mode": {
    "name": "ipython",
    "version": 3
   },
   "file_extension": ".py",
   "mimetype": "text/x-python",
   "name": "python",
   "nbconvert_exporter": "python",
   "pygments_lexer": "ipython3",
   "version": "3.10.12"
  }
 },
 "nbformat": 4,
 "nbformat_minor": 5
}
